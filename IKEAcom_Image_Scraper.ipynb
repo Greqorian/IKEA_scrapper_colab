{
  "cells": [
    {
      "cell_type": "markdown",
      "metadata": {
        "id": "view-in-github",
        "colab_type": "text"
      },
      "source": [
        "<a href=\"https://colab.research.google.com/github/Greqorian/IKEA_scrapper_colab/blob/main/IKEAcom_Image_Scraper.ipynb\" target=\"_parent\"><img src=\"https://colab.research.google.com/assets/colab-badge.svg\" alt=\"Open In Colab\"/></a>"
      ]
    },
    {
      "cell_type": "markdown",
      "source": [
        "# IKEA.com Image Scraper  \n",
        "### Python script to retrieve images from the ikea online store\n",
        "---\n",
        "This scraper is based on a list of ikea products from an extensive dataset CrawlFeeds on Kaggle: https://www.kaggle.com/crawlfeeds/ikea-us-products-dataset\n",
        "\n",
        "Download this dataset and save it to your google drive.\n",
        "Scraping images from an online store website is done in 3 steps:"
      ],
      "metadata": {
        "id": "w9oggbVhlr0T"
      }
    },
    {
      "cell_type": "markdown",
      "source": [
        "## 1. Create IKEA product list"
      ],
      "metadata": {
        "id": "B3FSTM5bKtsy"
      }
    },
    {
      "cell_type": "markdown",
      "source": [
        "1.1 Import libraries"
      ],
      "metadata": {
        "id": "VUVrtmd0sCDs"
      }
    },
    {
      "cell_type": "code",
      "execution_count": null,
      "metadata": {
        "id": "nm3u0Yk_Xcpw"
      },
      "outputs": [],
      "source": [
        "# package imports\n",
        "#basics\n",
        "import numpy as np # linear algebra\n",
        "import pandas as pd # data processing, CSV file I/O (e.g. pd.read_csv)\n",
        "import os\n",
        "import json # json files\n",
        "\n",
        "#visualisation\n",
        "from matplotlib import pyplot as plt\n",
        "\n",
        "#scraping\n",
        "from bs4 import BeautifulSoup\n",
        "import requests\n"
      ]
    },
    {
      "cell_type": "markdown",
      "source": [
        "1.2 Mount data storage"
      ],
      "metadata": {
        "id": "idykRiYXu-98"
      }
    },
    {
      "cell_type": "code",
      "execution_count": null,
      "metadata": {
        "id": "KglQJl51znCl"
      },
      "outputs": [],
      "source": [
        "from google.colab import drive\n",
        "drive.mount('/content/drive')"
      ]
    },
    {
      "cell_type": "markdown",
      "source": [
        "1.3 Open the dataset file from your Google Drive. Use the filepath of the CrawlFeeds file."
      ],
      "metadata": {
        "id": "t9Qkb33bD87h"
      }
    },
    {
      "cell_type": "code",
      "execution_count": null,
      "metadata": {
        "id": "q8av1iasF2hE"
      },
      "outputs": [],
      "source": [
        "# Opening JSON file\n",
        "f = open('/content/drive/MyDrive/DATA/ikea_sample_file.json', \"r\")\n",
        "# a dictionary\n",
        "data = json.load(f)\n",
        "\n",
        "print(data[0])\n",
        "print(len(data))"
      ]
    },
    {
      "cell_type": "markdown",
      "metadata": {
        "id": "pMg8dp0kQiRi"
      },
      "source": [
        "1.4 Write your list of IKEA products, extracting only relevant keys."
      ]
    },
    {
      "cell_type": "code",
      "execution_count": null,
      "metadata": {
        "id": "EASrDNKjmyBT"
      },
      "outputs": [],
      "source": [
        "ikeaProducts = []\n",
        "\n",
        "for x in data:\n",
        "  id = x['sku'].replace('.','')\n",
        "  name = x['product_title'].split(\" \")[0]\n",
        "  title = x['product_title']\n",
        "  url = x['product_url']\n",
        "  currency = x['currency']\n",
        "  price = x['product_price']\n",
        "\n",
        "  breadcrumbs = x['breadcrumbs'].split(\"/\")\n",
        "  print(breadcrumbs)\n",
        "\n",
        "  if len(breadcrumbs)>3:\n",
        "    category = breadcrumbs[1]\n",
        "    group = breadcrumbs[2]\n",
        "    subgroup = breadcrumbs[3]\n",
        "\n",
        "    ikeaProducts.append({\n",
        "        'id': id, \n",
        "        'name': name,\n",
        "        'title': title, \n",
        "        'url': url, \n",
        "        'currency': currency, \n",
        "        'price': price, \n",
        "        'category': category, \n",
        "        'group': group, \n",
        "        'subgroup': subgroup})"
      ]
    },
    {
      "cell_type": "markdown",
      "source": [
        "1.5 Create new directory for your files, by simply adding the new folder in your Google Drive\n",
        "\n"
      ],
      "metadata": {
        "id": "Yk_HGpubEpth"
      }
    },
    {
      "cell_type": "code",
      "execution_count": null,
      "metadata": {
        "colab": {
          "base_uri": "https://localhost:8080/"
        },
        "id": "Z_adFxIgSDzW",
        "outputId": "ce562f45-235e-4137-fe31-648aa1972a70"
      },
      "outputs": [
        {
          "name": "stdout",
          "output_type": "stream",
          "text": [
            "/content/drive/MyDrive/DATA/IKEAProductLists\n"
          ]
        }
      ],
      "source": [
        "# change directory to selected folder\n",
        "os.chdir('/content/drive/MyDrive/DATA/IKEAProductLists')"
      ]
    },
    {
      "cell_type": "markdown",
      "metadata": {
        "id": "iDHyiPtVkTIw"
      },
      "source": [
        "Save the newly created list to a JSON file for later use"
      ]
    },
    {
      "cell_type": "code",
      "execution_count": null,
      "metadata": {
        "id": "pzL8BTxEqFcw"
      },
      "outputs": [],
      "source": [
        "with open('ikeaProducts.json', 'w', encoding='utf-8') as outfile:\n",
        "    json.dump(ikeaProducts, outfile, ensure_ascii=False)"
      ]
    },
    {
      "cell_type": "markdown",
      "metadata": {
        "id": "c55ymYCH1PO4"
      },
      "source": [
        "##2. Create a list of image sources"
      ]
    },
    {
      "cell_type": "markdown",
      "source": [
        "2.1 In case you start from this point, load the list from a file (optional)"
      ],
      "metadata": {
        "id": "iEdwFbh-MBba"
      }
    },
    {
      "cell_type": "code",
      "execution_count": null,
      "metadata": {
        "id": "Ekwwtv-_2ouc"
      },
      "outputs": [],
      "source": [
        "# Opening JSON file\n",
        "f = open('/content/drive/MyDrive/DATA/IKEAProductLists/ikeaProducts.json', \"r\")\n",
        "# a dictionary\n",
        "ikeaProducts = json.load(f)\n",
        "print(len(ikeaProducts))"
      ]
    },
    {
      "cell_type": "markdown",
      "source": [
        "2.2 Extract only the furniture from product list "
      ],
      "metadata": {
        "id": "B6C9bAagMS9h"
      }
    },
    {
      "cell_type": "code",
      "execution_count": null,
      "metadata": {
        "id": "jjKVjuWgt84R"
      },
      "outputs": [],
      "source": [
        "# Extract only the furniture images from images list \n",
        "category = 'Furniture'\n",
        "selectedCategoryList = [x for x in ikeaProducts  if x['category'] == category]\n",
        "print(len(selectedCategoryList))\n"
      ]
    },
    {
      "cell_type": "markdown",
      "metadata": {
        "id": "M_Iuf9TXt42U"
      },
      "source": [
        "2.3 Extracting image sources for products in the selected range, using BeautifulSoup "
      ]
    },
    {
      "cell_type": "code",
      "execution_count": null,
      "metadata": {
        "id": "I8tR_vBZ8kUP"
      },
      "outputs": [],
      "source": [
        "ikeaImagesList = []\n",
        "# choose your range from 1 to 1719\n",
        "range = [0,30]\n",
        "\n",
        "# select pictures of first 5 products\n",
        "for x in selectedCategoryList[range[0]:range[1]]:\n",
        "  print(x['url'])\n",
        "\n",
        "  url = x['url']\n",
        "  id = x['id']\n",
        "  name = x['name']\n",
        "  title = x['title'].replace(' ', '_').replace('/', '-').replace(',', '').replace('\"', '')\n",
        "  category = x['category']\n",
        "  group = x['group']\n",
        "  subgroup = x['subgroup']\n",
        "\n",
        "# download of html code\n",
        "  r = requests.get(url)\n",
        "  soup = BeautifulSoup(r.text, 'html.parser')\n",
        "  images = soup.find_all('img')\n",
        "\n",
        "# save all source links of pictures to an array\n",
        "  for image in images:\n",
        "\n",
        "    if hasattr(image, 'alt') and hasattr(image, 'src') and name in image['alt']:\n",
        "\n",
        "      ikeaImagesList.append({\n",
        "          'id': id, \n",
        "          'name': name, \n",
        "          'title': title, \n",
        "          'category':category, \n",
        "          'group':group, \n",
        "          'subgroup':subgroup, \n",
        "          'src': image['src']  \n",
        "          })\n",
        "      \n",
        "  print(len(ikeaImagesList))    "
      ]
    },
    {
      "cell_type": "markdown",
      "metadata": {
        "id": "1LtR5rMOM-dY"
      },
      "source": [
        "2.4 You can save list of souces from IKEA Store to the JSON file. (optional)"
      ]
    },
    {
      "cell_type": "code",
      "execution_count": null,
      "metadata": {
        "id": "SCIFzxo3uZtf"
      },
      "outputs": [],
      "source": [
        "# change directory\n",
        "os.chdir('/content/drive/MyDrive/DATA/furnitureImages/100-furniture')\n",
        " \n",
        "with open('100-furniture-imagesList.json', 'w', encoding='utf-8') as outfile:\n",
        "     json.dump(ikeaImagesList, outfile, ensure_ascii=False)"
      ]
    },
    {
      "cell_type": "markdown",
      "source": [
        "##3. Download images from ikea.com"
      ],
      "metadata": {
        "id": "whtVuTKmnwRm"
      }
    },
    {
      "cell_type": "markdown",
      "source": [
        "3.1 In case you start from this point, load the list of sources from the JSON file (optional)"
      ],
      "metadata": {
        "id": "seE3AOr-nf58"
      }
    },
    {
      "cell_type": "code",
      "execution_count": null,
      "metadata": {
        "id": "bfeNjqfeceYA"
      },
      "outputs": [],
      "source": [
        "# Opening JSON file\n",
        "f = open('/content/drive/MyDrive/DATA/furnitureImages/100-furniture/100-furniture-imagesList.json', \"r\")\n",
        "# a dictionary\n",
        "ikeaImagesList = json.load(f)"
      ]
    },
    {
      "cell_type": "markdown",
      "source": [
        "3.2 Choose your directory for images"
      ],
      "metadata": {
        "id": "HkY20kjMogQp"
      }
    },
    {
      "cell_type": "code",
      "execution_count": null,
      "metadata": {
        "id": "53ASQ9lIc1MG"
      },
      "outputs": [],
      "source": [
        "# make sure your images will be savred to 'train' folder for AI model recognition purposes\n",
        "os.chdir('/content/drive/MyDrive/DATA/furnitureImages/100-furniture/train')\n",
        "!pwd"
      ]
    },
    {
      "cell_type": "markdown",
      "source": [
        "3.3 Dowload images"
      ],
      "metadata": {
        "id": "mEwWj077ogrc"
      }
    },
    {
      "cell_type": "code",
      "execution_count": null,
      "metadata": {
        "colab": {
          "background_save": true
        },
        "id": "jzu9eq-OGtEC"
      },
      "outputs": [],
      "source": [
        "imagesListInput = ikeaImagesList\n",
        "# list for images labels\n",
        "IkeaOnlineImagesList = []\n",
        "\n",
        "for index, image in enumerate(imagesListInput):\n",
        "  \n",
        "    title = image['title']\n",
        "    id = image['id']\n",
        "    # some symbols cannot be saved to the name of file, make sure they are replaced\n",
        "    name = image['name'].replace('/','_')\n",
        "    link = image['src']\n",
        "\n",
        "    for index, src in enumerate(link):\n",
        "      # images will be saved with names: index_id_name_ikeaOnline.jpg\n",
        "      fileName = str(index) + '_' + id + '_' + name + '_' + 'ikeaOnline' +'.jpg'\n",
        "      IkeaOnlineImagesList.append({'title': fileName, 'name':name})\n",
        "\n",
        "      with open(fileName, 'wb') as f:\n",
        "        im = requests.get(link)\n",
        "        f.write(im.content)\n",
        "        f.close()\n",
        "        print('Writing: ', fileName)"
      ]
    },
    {
      "cell_type": "markdown",
      "source": [
        "3.4 Save list of labels to JSON file. Important for AI Model training"
      ],
      "metadata": {
        "id": "9UwgzTY1qTAd"
      }
    },
    {
      "cell_type": "code",
      "execution_count": null,
      "metadata": {
        "id": "3SjgtZ6OhEZL"
      },
      "outputs": [],
      "source": [
        "# change directory for the labels list\n",
        "os.chdir('/content/drive/MyDrive/DATA/furnitureImages/30-furniture')\n",
        "!pwd\n",
        "# save the ebayImagesList to JSON file\n",
        "with open('IkeaOnlineImagesList.json', 'w', encoding='utf-8') as outfile:\n",
        "    json.dump(IkeaOnlineImagesList, outfile, ensure_ascii=False)"
      ]
    }
  ],
  "metadata": {
    "colab": {
      "collapsed_sections": [],
      "name": "IKEAcom_Image_Scraper.ipynb",
      "provenance": [],
      "include_colab_link": true
    },
    "kernelspec": {
      "display_name": "Python 3",
      "name": "python3"
    },
    "language_info": {
      "name": "python"
    }
  },
  "nbformat": 4,
  "nbformat_minor": 0
}