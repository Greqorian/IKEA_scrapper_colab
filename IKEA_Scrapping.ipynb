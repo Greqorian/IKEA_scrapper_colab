{
  "nbformat": 4,
  "nbformat_minor": 0,
  "metadata": {
    "colab": {
      "name": "IKEA_Scrapping.ipynb",
      "provenance": [],
      "collapsed_sections": [],
      "authorship_tag": "ABX9TyOo/Kw8+N/pc/n3X9qaDEV5",
      "include_colab_link": true
    },
    "kernelspec": {
      "name": "python3",
      "display_name": "Python 3"
    },
    "language_info": {
      "name": "python"
    }
  },
  "cells": [
    {
      "cell_type": "markdown",
      "metadata": {
        "id": "view-in-github",
        "colab_type": "text"
      },
      "source": [
        "<a href=\"https://colab.research.google.com/github/Greqorian/IKEA_scrapper_colab/blob/main/IKEA_Scrapping.ipynb\" target=\"_parent\"><img src=\"https://colab.research.google.com/assets/colab-badge.svg\" alt=\"Open In Colab\"/></a>"
      ]
    },
    {
      "cell_type": "code",
      "metadata": {
        "id": "nm3u0Yk_Xcpw"
      },
      "source": [
        "# package imports\n",
        "#basics\n",
        "import numpy as np # linear algebra\n",
        "import pandas as pd # data processing, CSV file I/O (e.g. pd.read_csv)\n",
        "import os\n",
        "\n",
        "#visualisation\n",
        "from matplotlib import pyplot as plt\n",
        "\n",
        "#scrapping\n",
        "from bs4 import BeautifulSoup\n",
        "import requests\n"
      ],
      "execution_count": 18,
      "outputs": []
    },
    {
      "cell_type": "markdown",
      "metadata": {
        "id": "pMg8dp0kQiRi"
      },
      "source": [
        "Create new working directory"
      ]
    },
    {
      "cell_type": "code",
      "metadata": {
        "colab": {
          "base_uri": "https://localhost:8080/"
        },
        "id": "Z_adFxIgSDzW",
        "outputId": "17ca2b3f-1edf-425a-a315-d6df9e984c58"
      },
      "source": [
        "url = 'https://www.ikea.com/us/en/p/jaervfjaellet-office-chair-with-armrests-60510640/'\n",
        "\n",
        "os.chdir('/content')\n",
        "\n",
        "# Check current working directory.\n",
        "curDir = os.getcwd() \n",
        "print(\"Current working directory\", curDir)\n",
        "try:\n",
        "  os.mkdir(os.path.join(curDir, 'IKEA'))\n",
        "except:\n",
        "     pass\n",
        "\n",
        "os.chdir(os.path.join(curDir, 'IKEA'))\n",
        "!pwd"
      ],
      "execution_count": 37,
      "outputs": [
        {
          "output_type": "stream",
          "name": "stdout",
          "text": [
            "Current working directory /content\n",
            "/content/IKEA\n"
          ]
        }
      ]
    },
    {
      "cell_type": "code",
      "metadata": {
        "id": "I8tR_vBZ8kUP"
      },
      "source": [
        "r = requests.get(url)\n",
        "soup = BeautifulSoup(r.text, 'html.parser')\n",
        "images = soup.find_all('img')"
      ],
      "execution_count": 38,
      "outputs": []
    },
    {
      "cell_type": "code",
      "metadata": {
        "colab": {
          "base_uri": "https://localhost:8080/"
        },
        "id": "1Pbt2f-lQo8-",
        "outputId": "281f773e-d652-42e5-fa28-41af586bffe8"
      },
      "source": [
        "#print(images)\n",
        "print(len(images))\n",
        "#print(images[len(images)-1]['alt'])\n",
        "#print(images[len(images)-1]['src'])\n",
        "\n",
        "filteredImages = []\n",
        "\n",
        "for image in images:\n",
        "  if \"JÄRVFJÄLLET\" in image['alt']:\n",
        "    filteredImages.append(image)\n",
        "print(len(filteredImages))    \n",
        "print('flitered:',filteredImages[0]['alt'])"
      ],
      "execution_count": 42,
      "outputs": [
        {
          "output_type": "stream",
          "name": "stdout",
          "text": [
            "34\n",
            "10\n",
            "flitered: JÄRVFJÄLLET Office chair with armrests\n"
          ]
        }
      ]
    },
    {
      "cell_type": "code",
      "metadata": {
        "colab": {
          "base_uri": "https://localhost:8080/"
        },
        "id": "jzu9eq-OGtEC",
        "outputId": "0c3fab46-a437-40e8-821b-bc4141320421"
      },
      "source": [
        "for index, image in enumerate(filteredImages):\n",
        "  name = image['alt']\n",
        "  link = image['src']\n",
        "  with open(name.replace(' ', '-').replace('/', '') + '-' + str(index) +'.jpg', 'wb') as f:\n",
        "    im = requests.get(link)\n",
        "    f.write(im.content)\n",
        "    print('Writing: ', name)"
      ],
      "execution_count": 43,
      "outputs": [
        {
          "output_type": "stream",
          "name": "stdout",
          "text": [
            "Writing:  JÄRVFJÄLLET Office chair with armrests\n",
            "Writing:  JÄRVFJÄLLET Office chair with armrests\n",
            "Writing:  JÄRVFJÄLLET Office chair with armrests\n",
            "Writing:  JÄRVFJÄLLET Office chair with armrests\n",
            "Writing:  JÄRVFJÄLLET Office chair with armrests\n",
            "Writing:  JÄRVFJÄLLET Office chair with armrests\n",
            "Writing:  JÄRVFJÄLLET Office chair with armrests\n",
            "Writing:  JÄRVFJÄLLET Office chair with armrests\n",
            "Writing:  JÄRVFJÄLLET Office chair with armrests\n",
            "Writing:  JÄRVFJÄLLET Office chair with armrests\n"
          ]
        }
      ]
    },
    {
      "cell_type": "markdown",
      "metadata": {
        "id": "ffVptOgJSXXg"
      },
      "source": [
        "# New section"
      ]
    }
  ]
}