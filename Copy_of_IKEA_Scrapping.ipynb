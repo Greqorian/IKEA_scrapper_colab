{
  "nbformat": 4,
  "nbformat_minor": 0,
  "metadata": {
    "colab": {
      "name": "Copy of IKEA_Scrapping.ipynb",
      "provenance": [],
      "collapsed_sections": [],
      "authorship_tag": "ABX9TyNM2iQrqcdzwFrRo77pVG2/",
      "include_colab_link": true
    },
    "kernelspec": {
      "name": "python3",
      "display_name": "Python 3"
    },
    "language_info": {
      "name": "python"
    }
  },
  "cells": [
    {
      "cell_type": "markdown",
      "metadata": {
        "id": "view-in-github",
        "colab_type": "text"
      },
      "source": [
        "<a href=\"https://colab.research.google.com/github/Greqorian/IKEA_scrapper_colab/blob/main/Copy_of_IKEA_Scrapping.ipynb\" target=\"_parent\"><img src=\"https://colab.research.google.com/assets/colab-badge.svg\" alt=\"Open In Colab\"/></a>"
      ]
    },
    {
      "cell_type": "code",
      "metadata": {
        "id": "nm3u0Yk_Xcpw"
      },
      "source": [
        "# package imports\n",
        "#basics\n",
        "import numpy as np # linear algebra\n",
        "import pandas as pd # data processing, CSV file I/O (e.g. pd.read_csv)\n",
        "import os\n",
        "import json # json files\n",
        "\n",
        "#visualisation\n",
        "from matplotlib import pyplot as plt\n",
        "\n",
        "#scrapping\n",
        "from bs4 import BeautifulSoup\n",
        "import requests\n"
      ],
      "execution_count": 3,
      "outputs": []
    },
    {
      "cell_type": "code",
      "metadata": {
        "id": "KglQJl51znCl",
        "colab": {
          "base_uri": "https://localhost:8080/"
        },
        "outputId": "b9fd5b76-7e40-4f9f-f5dd-0ba62f205769"
      },
      "source": [
        "from google.colab import drive\n",
        "drive.mount('/content/drive')"
      ],
      "execution_count": 4,
      "outputs": [
        {
          "output_type": "stream",
          "name": "stdout",
          "text": [
            "Mounted at /content/drive\n"
          ]
        }
      ]
    },
    {
      "cell_type": "code",
      "metadata": {
        "id": "q8av1iasF2hE",
        "colab": {
          "base_uri": "https://localhost:8080/"
        },
        "outputId": "eeb6f9d5-e885-458e-d919-218651573100"
      },
      "source": [
        "# Opening JSON file\n",
        "f = open('/content/drive/MyDrive/DATA/ikea_sample_file.json', \"r\")\n",
        "# a dictionary\n",
        "data = json.load(f)\n",
        "\n",
        "print(data[0])\n",
        "print(len(data))"
      ],
      "execution_count": 5,
      "outputs": [
        {
          "output_type": "stream",
          "name": "stdout",
          "text": [
            "{'product_title': 'JÄRVFJÄLLET Office chair with armrests', 'product_url': 'https://www.ikea.com/us/en/p/jaervfjaellet-office-chair-with-armrests-60510640/', 'sku': '605.106.40', 'mpn': '605.106.40', 'currency': 'USD', 'product_price': '279', 'product_condition': 'NewCondition', 'availability': 'InStock', 'seller': 'IKEA', 'seller_url': '', 'brand': 'IKEA', 'raw_product_details': '<span class=\"range-revamp-product-details__paragraph\">10-year Warranty. Read about the terms in the warranty brochure.</span>/<span class=\"range-revamp-product-details__paragraph\">The adjustable and lockable tilt function increases stability and control in different sitting positions.</span>/<span class=\"range-revamp-product-details__paragraph\">The mesh material of the backrest lets air through to your back during long sitting periods.</span>/<span class=\"range-revamp-product-details__paragraph\">Your back gets the support it needs because the seat depth can be adjusted and the chair has built-in lumbar support.</span>/<span class=\"range-revamp-product-details__paragraph\">You can adjust the headrest and the lumbar support to suit you and your needs.</span>/<span class=\"range-revamp-product-details__paragraph\">The safety casters have a pressure-sensitive brake mechanism that keeps the chair in place when you stand up, and releases automatically when you sit down.</span>/<span class=\"range-revamp-product-details__paragraph\">The adjustable armrests of this swivel chair can help take the load off your shoulders and neck to reduce tension, strain and pain.</span>/<span class=\"range-revamp-product-details__paragraph\">The leather ages beautifully and acquires a nice patina over time.</span>/<span class=\"range-revamp-product-details__paragraph\">This chair has been tested for office use and meets the requirements for durability and stability set forth in the following standards: EN 1335 and ANSI/BIFMA x5.1.</span>/<span class=\"range-revamp-product-details__paragraph\">May be used with KOLON floor protector.</span>/<span class=\"range-revamp-product-details__header\">Designer</span>/<span class=\"range-revamp-product-details__header\">Main parts:</span>/<span class=\"range-revamp-product-details__label\">Dyed through top-grain leather with a treated, embossed and pigmented surface</span>/<span class=\"range-revamp-product-details__header\">Armrest pad:</span>/<span class=\"range-revamp-product-details__label\">Synthetic rubber</span>/<span class=\"range-revamp-product-details__header\">Armrest fixture/ Armrest inside/ Inner frame/ Armrest frame/ Button/ Mounting plate:</span>/<span class=\"range-revamp-product-details__label\">Reinforced polyamide</span>/<span class=\"range-revamp-product-details__header\">Spring:</span>/<span class=\"range-revamp-product-details__label\">Steel</span>/<span class=\"range-revamp-product-details__header\">Back frame/ Back bar:</span>/<span class=\"range-revamp-product-details__label\">Steel, Epoxy/polyester powder coating</span>/<span class=\"range-revamp-product-details__header\">Seat frame:</span>/<span class=\"range-revamp-product-details__label\">Layer-glued wood veneer</span>/<span class=\"range-revamp-product-details__header\">Seat foam:</span>/<span class=\"range-revamp-product-details__label\">High resilient polyurethane foam (cold foam).</span>/<span class=\"range-revamp-product-details__header\">Headrest:</span>/<span class=\"range-revamp-product-details__label\">Reinforced polyamide, Polyurethane foam.</span>/<span class=\"range-revamp-product-details__header\">Star base:</span>/<span class=\"range-revamp-product-details__label\">Aluminum, Epoxy/polyester powder coating</span>/<span class=\"range-revamp-product-details__header\">Fabric:</span>/<span class=\"range-revamp-product-details__label\">100 %polyester</span>/<span class=\"range-revamp-product-details__label\">Vacuum clean.</span>/<span class=\"range-revamp-product-details__label\">Wipe clean with a soft cloth dampened in water.</span>/<span class=\"range-revamp-product-details__header notranslate\">JÄRVFJÄLLET</span>/<span>Office chair with armrests</span>/<span x-ms-format-detection=\"none\" class=\"range-revamp-product-identifier\" data-ga-action=\"article_number_click\" data-ga-label=\"details_packaging_605.106.40\"><span class=\"range-revamp-product-identifier__label\">Article Number</span><span class=\"range-revamp-product-identifier__value\">605.106.40</span></span>/<span class=\"range-revamp-product-identifier__label\">Article Number</span>/<span class=\"range-revamp-product-identifier__value\">605.106.40</span>/<span class=\"range-revamp-product-details__label\"><span class=\"range-revamp-product-details__label--bold\">Width:</span> 23 ¼ \"</span>/<span class=\"range-revamp-product-details__label--bold\">Width:</span>/<span class=\"range-revamp-product-details__label\"><span class=\"range-revamp-product-details__label--bold\">Height:</span> 8 ¾ \"</span>/<span class=\"range-revamp-product-details__label--bold\">Height:</span>/<span class=\"range-revamp-product-details__label\"><span class=\"range-revamp-product-details__label--bold\">Length:</span> 38 ¼ \"</span>/<span class=\"range-revamp-product-details__label--bold\">Length:</span>/<span class=\"range-revamp-product-details__label\"><span class=\"range-revamp-product-details__label--bold\">Weight:</span> 45 lb 10 oz</span>/<span class=\"range-revamp-product-details__label--bold\">Weight:</span>/<span class=\"range-revamp-product-details__label\"><span class=\"range-revamp-product-details__label--bold\">Package(s):</span> 1</span>/<span class=\"range-revamp-product-details__label--bold\">Package(s):</span>/<span class=\"range-revamp-product-details__document-header\"><svg focusable=\"false\" viewbox=\"0 0 24 24\" class=\"range-revamp-svg-icon range-revamp-product-details__document-header-icon\" aria-hidden=\"true\"><path fill-rule=\"evenodd\" clip-rule=\"evenodd\" d=\"M14 6H5v3h9V6zM3 4v7h3.983l-2.3093 4H3v6h11v-6h-3.5445l2.3094-4H16V9h2V8h3V6h-3V5h-2V4H3zm7.4555 7-2.3094 4H6.983l2.3094-4h1.163zM5 17h7v2H5v-2z\"></path></svg>Assembly instructions</span>/<span>JÄRVFJÄLLET Office chair with armrests</span>/<span x-ms-format-detection=\"none\" class=\"range-revamp-product-identifier\"><span class=\"range-revamp-product-identifier__value\">605.106.40</span></span>/<span class=\"range-revamp-product-identifier__value\">605.106.40</span>/<span class=\"range-revamp-product-details__document-header\"><svg focusable=\"false\" viewbox=\"0 0 24 24\" class=\"range-revamp-svg-icon range-revamp-product-details__document-header-icon\" aria-hidden=\"true\"><path d=\"M8 6h8v2H8V6zm5 4H8v2h5v-2z\"></path><path fill-rule=\"evenodd\" clip-rule=\"evenodd\" d=\"M4 2h16v20H4V2zm2 2v16h12V4H6z\"></path></svg>Other documents</span>/<span>JÄRVFJÄLLET Office chair with armrests</span>/<span x-ms-format-detection=\"none\" class=\"range-revamp-product-identifier\"><span class=\"range-revamp-product-identifier__value\">605.106.40</span></span>/<span class=\"range-revamp-product-identifier__value\">605.106.40</span>/<span>JÄRVFJÄLLET Office chair with armrests</span>/<span x-ms-format-detection=\"none\" class=\"range-revamp-product-identifier\"><span class=\"range-revamp-product-identifier__value\">605.106.40</span></span>/<span class=\"range-revamp-product-identifier__value\">605.106.40</span>/<span>JÄRVFJÄLLET Office chair with armrests</span>/<span x-ms-format-detection=\"none\" class=\"range-revamp-product-identifier\"><span class=\"range-revamp-product-identifier__value\">605.106.40</span></span>/<span class=\"range-revamp-product-identifier__value\">605.106.40</span>', 'breadcrumbs': 'Products/Furniture/Chairs/Desk chairs/Desk chairs for home/JÄRVFJÄLLET Office chair with armrests', 'country': 'US', 'language': 'EN', 'average_rating': '', 'reviews_count': ''}\n",
            "11823\n"
          ]
        }
      ]
    },
    {
      "cell_type": "markdown",
      "metadata": {
        "id": "pMg8dp0kQiRi"
      },
      "source": [
        "Create new working directory"
      ]
    },
    {
      "cell_type": "code",
      "metadata": {
        "colab": {
          "base_uri": "https://localhost:8080/"
        },
        "id": "Z_adFxIgSDzW",
        "outputId": "978dcbb6-2d5a-4699-9ebe-de1bc8ac8008"
      },
      "source": [
        "os.chdir('/content/drive/MyDrive/DATA')\n",
        "\n",
        "# Check current working directory.\n",
        "curDir = os.getcwd() \n",
        "# print(\"Current working directory:\", curDir)\n",
        "# try:\n",
        "#   os.mkdir(os.path.join(curDir, 'IKEA'))\n",
        "# except:\n",
        "#      pass\n",
        "\n",
        "os.chdir(os.path.join(curDir, 'IKEA'))\n",
        "print(\"Created new working directory:\") \n",
        "!pwd"
      ],
      "execution_count": 8,
      "outputs": [
        {
          "output_type": "stream",
          "name": "stdout",
          "text": [
            "Created new working directory:\n",
            "/content/drive/MyDrive/DATA/IKEA\n"
          ]
        }
      ]
    },
    {
      "cell_type": "code",
      "metadata": {
        "id": "I8tR_vBZ8kUP"
      },
      "source": [
        "filteredImages = []\n",
        "imagesIDs = []\n",
        "range = [1001,4000]\n",
        "\n",
        "for x in data[range[0]:range[1]]:\n",
        "  print(x['product_url'])\n",
        "  url = x['product_url']\n",
        "  id = x['sku']\n",
        "  r = requests.get(url)\n",
        "  soup = BeautifulSoup(r.text, 'html.parser')\n",
        "  images = soup.find_all('img')\n",
        "\n",
        "  for image in images:\n",
        "    print('produkt title', x['product_title'].split(' ', 1)[0])\n",
        "    print('image alt', image['alt'])\n",
        "    if x['product_title'].split(' ', 1)[0] in image['alt']:\n",
        "      filteredImages.append(image)\n",
        "      imagesIDs.append(id)\n",
        "  print(len(filteredImages))\n"
      ],
      "execution_count": null,
      "outputs": []
    },
    {
      "cell_type": "code",
      "metadata": {
        "id": "0GO8y6K29Gds"
      },
      "source": [
        "print('Control positions in arrays:')\n",
        "print(len(filteredImages))    \n",
        "print('flitered:',filteredImages[20]['alt'],filteredImages[20]['src'])\n",
        "print('flitered:',filteredImages[21]['alt'],filteredImages[21]['src'])\n",
        "print('flitered:',filteredImages[22]['alt'],filteredImages[22]['src'])\n",
        "print('flitered:',filteredImages[23]['alt'],filteredImages[23]['src'])\n",
        "print('flitered:',imagesIDs[20])\n",
        "print('flitered:',imagesIDs[21])\n",
        "print('flitered:',imagesIDs[22])\n",
        "print('flitered:',imagesIDs[23])"
      ],
      "execution_count": null,
      "outputs": []
    },
    {
      "cell_type": "code",
      "metadata": {
        "id": "jzu9eq-OGtEC"
      },
      "source": [
        "for index, image in enumerate(filteredImages):\n",
        "  alt = image['alt']\n",
        "  link = image['src']\n",
        "\n",
        "  fileName = str(index) + '_' + imagesIDs[index].replace('.', '') + '_' + alt.replace(' ', '_').replace('/', '-').replace(',', '').replace('\"', '') +'.jpg'\n",
        "  with open(fileName, 'wb') as f:\n",
        "    im = requests.get(link)\n",
        "    f.write(im.content)\n",
        "    f.close()\n",
        "    print('Writing: ', fileName)"
      ],
      "execution_count": null,
      "outputs": []
    },
    {
      "cell_type": "markdown",
      "metadata": {
        "id": "ffVptOgJSXXg"
      },
      "source": [
        "# New section"
      ]
    }
  ]
}